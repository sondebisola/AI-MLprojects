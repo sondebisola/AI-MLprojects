{
  "metadata": {
    "kernelspec": {
      "language": "python",
      "display_name": "Python 3",
      "name": "python3"
    },
    "language_info": {
      "name": "python",
      "version": "3.10.12",
      "mimetype": "text/x-python",
      "codemirror_mode": {
        "name": "ipython",
        "version": 3
      },
      "pygments_lexer": "ipython3",
      "nbconvert_exporter": "python",
      "file_extension": ".py"
    },
    "kaggle": {
      "accelerator": "gpu",
      "dataSources": [],
      "isInternetEnabled": true,
      "language": "python",
      "sourceType": "notebook",
      "isGpuEnabled": true
    },
    "colab": {
      "name": "FineTune Phi-2 on Custom DataSet",
      "provenance": [],
      "include_colab_link": true
    }
  },
  "nbformat_minor": 0,
  "nbformat": 4,
  "cells": [
    {
      "cell_type": "markdown",
      "metadata": {
        "id": "view-in-github",
        "colab_type": "text"
      },
      "source": [
        "<a href=\"https://colab.research.google.com/github/sondebisola/AI-MLprojects/blob/main/FineTune_Phi_2_on_Custom_DataSet.ipynb\" target=\"_parent\"><img src=\"https://colab.research.google.com/assets/colab-badge.svg\" alt=\"Open In Colab\"/></a>"
      ]
    },
    {
      "cell_type": "code",
      "source": [
        "# This Python 3 environment comes with many helpful analytics libraries installed\n",
        "# It is defined by the kaggle/python Docker image: https://github.com/kaggle/docker-python\n",
        "# For example, here's several helpful packages to load\n",
        "\n",
        "import numpy as np # linear algebra\n",
        "import pandas as pd # data processing, CSV file I/O (e.g. pd.read_csv)\n",
        "\n",
        "# Input data files are available in the read-only \"../input/\" directory\n",
        "# For example, running this (by clicking run or pressing Shift+Enter) will list all files under the input directory\n",
        "\n",
        "import os\n",
        "for dirname, _, filenames in os.walk('/kaggle/input'):\n",
        "    for filename in filenames:\n",
        "        print(os.path.join(dirname, filename))\n",
        "\n",
        "# You can write up to 20GB to the current directory (/kaggle/working/) that gets preserved as output when you create a version using \"Save & Run All\"\n",
        "# You can also write temporary files to /kaggle/temp/, but they won't be saved outside of the current session"
      ],
      "metadata": {
        "_uuid": "8f2839f25d086af736a60e9eeb907d3b93b6e0e5",
        "_cell_guid": "b1076dfc-b9ad-4769-8c92-a6c4dae69d19",
        "trusted": true,
        "id": "hm2yy_2pUjKR"
      },
      "execution_count": null,
      "outputs": []
    },
    {
      "cell_type": "markdown",
      "source": [
        "**In this notebook and tutorial, we will fine-tune [Microsoft's Phi-2](https://huggingface.co/microsoft/phi-2) relatively small 2.7B model - which has \"showcased a nearly state-of-the-art performance among models with less than 13 billion parameters\" - *on your own data!***\n",
        "\n",
        "**Here we will use [QLoRA (Efficient Finetuning of Quantized LLMs)](https://arxiv.org/abs/2305.14314), a highly efficient fine-tuning technique that involves quantizing a pretrained LLM to just 4 bits and adding small “Low-Rank Adapters”. This unique approach allows for fine-tuning LLMs using just a single GPU! This technique is supported by the [PEFT library](https://huggingface.co/docs/peft/index).**\n",
        "\n"
      ],
      "metadata": {
        "id": "hHZJJ1CkUjKV"
      }
    },
    {
      "cell_type": "markdown",
      "source": [
        "# Table of Contents"
      ],
      "metadata": {
        "id": "OmW7JTwYUjKW"
      }
    },
    {
      "cell_type": "markdown",
      "source": [
        "- [1- Install all the required libraries](#1)\n",
        "- [ 2 - Loading dataset](#2)\n",
        "- [ 3 - Create bitsandbytes configuration](#3)\n",
        "- [ 4 - Load Base Model](#4)\n",
        "- [ 5 - Tokenization](#5)\n",
        "- [ 6 - Test the Model with Zero Shot Inferencing](#6)\n",
        "- [ 7 - Pre-processing dataset](#7)\n",
        "- [ 8 - Setup the PEFT/LoRA model for Fine-Tuning](#8)\n",
        "- [ 9 - Train PEFT Adapter](#9)\n",
        "- [ 10 - Evaluate the Model Qualitatively (Human Evaluation)](#10)\n",
        "- [ 11 - Evaluate the Model Quantitatively (with ROUGE Metric)](#11)"
      ],
      "metadata": {
        "id": "KZtzlG9FUjKX"
      }
    },
    {
      "cell_type": "markdown",
      "source": [
        "<a name='1'></a>\n",
        "#### 1. Install all the required libraries"
      ],
      "metadata": {
        "id": "6hdRQgEQUjKX"
      }
    },
    {
      "cell_type": "code",
      "source": [
        "!pip install -q -U bitsandbytes transformers peft accelerate datasets scipy einops evaluate trl"
      ],
      "metadata": {
        "execution": {
          "iopub.status.busy": "2024-01-20T06:32:21.308139Z",
          "iopub.execute_input": "2024-01-20T06:32:21.308504Z",
          "iopub.status.idle": "2024-01-20T06:32:43.48416Z",
          "shell.execute_reply.started": "2024-01-20T06:32:21.308466Z",
          "shell.execute_reply": "2024-01-20T06:32:43.482988Z"
        },
        "trusted": true,
        "id": "OvCS3aMuUjKX"
      },
      "execution_count": null,
      "outputs": []
    },
    {
      "cell_type": "code",
      "source": [
        "import os\n",
        "# disable Weights and Biases\n",
        "os.environ['WANDB_DISABLED']=\"true\""
      ],
      "metadata": {
        "execution": {
          "iopub.status.busy": "2024-01-20T06:36:22.888792Z",
          "iopub.execute_input": "2024-01-20T06:36:22.889708Z",
          "iopub.status.idle": "2024-01-20T06:36:22.89386Z",
          "shell.execute_reply.started": "2024-01-20T06:36:22.889672Z",
          "shell.execute_reply": "2024-01-20T06:36:22.893005Z"
        },
        "trusted": true,
        "id": "RMvnyULeUjKY"
      },
      "execution_count": null,
      "outputs": []
    },
    {
      "cell_type": "code",
      "source": [
        "from datasets import load_dataset\n",
        "from transformers import (\n",
        "    AutoModelForCausalLM,\n",
        "    AutoTokenizer,\n",
        "    BitsAndBytesConfig,\n",
        "    HfArgumentParser,\n",
        "    AutoTokenizer,\n",
        "    TrainingArguments,\n",
        "    Trainer,\n",
        "    GenerationConfig\n",
        ")\n",
        "from tqdm import tqdm\n",
        "from trl import SFTTrainer\n",
        "import torch\n",
        "import time\n",
        "import pandas as pd\n",
        "import numpy as np\n",
        "from huggingface_hub import interpreter_login\n",
        "\n",
        "interpreter_login()"
      ],
      "metadata": {
        "execution": {
          "iopub.status.busy": "2024-01-20T06:36:26.150827Z",
          "iopub.execute_input": "2024-01-20T06:36:26.151186Z",
          "iopub.status.idle": "2024-01-20T06:36:56.89247Z",
          "shell.execute_reply.started": "2024-01-20T06:36:26.151156Z",
          "shell.execute_reply": "2024-01-20T06:36:56.891515Z"
        },
        "trusted": true,
        "id": "ab1chxpUUjKZ"
      },
      "execution_count": null,
      "outputs": []
    },
    {
      "cell_type": "code",
      "source": [
        "from pynvml import *\n",
        "\n",
        "def print_gpu_utilization():\n",
        "    nvmlInit()\n",
        "    handle = nvmlDeviceGetHandleByIndex(0)\n",
        "    info = nvmlDeviceGetMemoryInfo(handle)\n",
        "    print(f\"GPU memory occupied: {info.used//1024**2} MB.\")"
      ],
      "metadata": {
        "execution": {
          "iopub.status.busy": "2024-01-20T06:37:06.372043Z",
          "iopub.execute_input": "2024-01-20T06:37:06.372914Z",
          "iopub.status.idle": "2024-01-20T06:37:06.386043Z",
          "shell.execute_reply.started": "2024-01-20T06:37:06.372877Z",
          "shell.execute_reply": "2024-01-20T06:37:06.385137Z"
        },
        "trusted": true,
        "id": "sDhGUHTHUjKa"
      },
      "execution_count": null,
      "outputs": []
    },
    {
      "cell_type": "markdown",
      "source": [
        "<a name='2'></a>\n",
        "#### 2. Loading dataset"
      ],
      "metadata": {
        "id": "QWH33-0-UjKa"
      }
    },
    {
      "cell_type": "code",
      "source": [
        "# https://huggingface.co/datasets/neil-code/dialogsum-test\n",
        "huggingface_dataset_name = \"neil-code/dialogsum-test\"\n",
        "dataset = load_dataset(huggingface_dataset_name)\n",
        "dataset"
      ],
      "metadata": {
        "execution": {
          "iopub.status.busy": "2024-01-20T06:37:09.802328Z",
          "iopub.execute_input": "2024-01-20T06:37:09.803154Z",
          "iopub.status.idle": "2024-01-20T06:37:14.800161Z",
          "shell.execute_reply.started": "2024-01-20T06:37:09.803122Z",
          "shell.execute_reply": "2024-01-20T06:37:14.799265Z"
        },
        "trusted": true,
        "id": "SQciXulGUjKb"
      },
      "execution_count": null,
      "outputs": []
    },
    {
      "cell_type": "markdown",
      "source": [
        "This is what the data looks like:"
      ],
      "metadata": {
        "id": "ctG9MrlsUjKb"
      }
    },
    {
      "cell_type": "code",
      "source": [
        "dataset['train'][0]"
      ],
      "metadata": {
        "execution": {
          "iopub.status.busy": "2024-01-20T06:37:22.699549Z",
          "iopub.execute_input": "2024-01-20T06:37:22.69992Z",
          "iopub.status.idle": "2024-01-20T06:37:22.706866Z",
          "shell.execute_reply.started": "2024-01-20T06:37:22.69989Z",
          "shell.execute_reply": "2024-01-20T06:37:22.705981Z"
        },
        "trusted": true,
        "id": "KVDYQupiUjKb"
      },
      "execution_count": null,
      "outputs": []
    },
    {
      "cell_type": "markdown",
      "source": [
        "<a name='3'></a>\n",
        "#### 3. Create bitsandbytes configuration\n",
        "\n",
        "**To load the model, we need a configuration class that specifies how we want the quantization to be performed. We’ll achieve this with BitesAndBytesConfig from the Transformers library. This will allow us to load our LLM in 4 bits. This way, we can divide the used memory by 4 and import the model on smaller devices.**"
      ],
      "metadata": {
        "id": "jYjKrN9TUjKb"
      }
    },
    {
      "cell_type": "code",
      "source": [
        "compute_dtype = getattr(torch, \"float16\")\n",
        "bnb_config = BitsAndBytesConfig(\n",
        "        load_in_4bit=True,\n",
        "        bnb_4bit_quant_type='nf4',\n",
        "        bnb_4bit_compute_dtype=compute_dtype,\n",
        "        bnb_4bit_use_double_quant=False,\n",
        "    )\n",
        "device_map = {\"\": 0}"
      ],
      "metadata": {
        "execution": {
          "iopub.status.busy": "2024-01-20T06:37:33.444536Z",
          "iopub.execute_input": "2024-01-20T06:37:33.444907Z",
          "iopub.status.idle": "2024-01-20T06:37:33.451948Z",
          "shell.execute_reply.started": "2024-01-20T06:37:33.444875Z",
          "shell.execute_reply": "2024-01-20T06:37:33.450994Z"
        },
        "trusted": true,
        "id": "E0IpKg9fUjKc"
      },
      "execution_count": null,
      "outputs": []
    },
    {
      "cell_type": "markdown",
      "source": [
        "<a name='4'></a>\n",
        "#### 4. Load Base Model\n",
        "Let's now load Phi-2 using 4-bit quantization!"
      ],
      "metadata": {
        "id": "vePiGiccUjKc"
      }
    },
    {
      "cell_type": "code",
      "source": [
        "model_name='microsoft/phi-2'\n",
        "original_model = AutoModelForCausalLM.from_pretrained(model_name,\n",
        "                                                      device_map=device_map,\n",
        "                                                      quantization_config=bnb_config,\n",
        "                                                      trust_remote_code=True,\n",
        "                                                      use_auth_token=True)"
      ],
      "metadata": {
        "execution": {
          "iopub.status.busy": "2024-01-20T06:37:36.662683Z",
          "iopub.execute_input": "2024-01-20T06:37:36.66339Z",
          "iopub.status.idle": "2024-01-20T06:37:55.595724Z",
          "shell.execute_reply.started": "2024-01-20T06:37:36.663357Z",
          "shell.execute_reply": "2024-01-20T06:37:55.594708Z"
        },
        "trusted": true,
        "id": "xzIFJNbnUjKc"
      },
      "execution_count": null,
      "outputs": []
    },
    {
      "cell_type": "markdown",
      "source": [
        "<a name='5'></a>\n",
        "#### 5. Tokenization\n",
        "Set up the tokenizer. Add padding on the left as it [makes training use less memory](https://ai.stackexchange.com/questions/41485/while-fine-tuning-a-decoder-only-llm-like-llama-on-chat-dataset-what-kind-of-pa)."
      ],
      "metadata": {
        "id": "FZPcqTBcUjKc"
      }
    },
    {
      "cell_type": "code",
      "source": [
        "# https://ai.stackexchange.com/questions/41485/while-fine-tuning-a-decoder-only-llm-like-llama-on-chat-dataset-what-kind-of-pa\n",
        "tokenizer = AutoTokenizer.from_pretrained(model_name,trust_remote_code=True,padding_side=\"left\",add_eos_token=True,add_bos_token=True,use_fast=False)\n",
        "tokenizer.pad_token = tokenizer.eos_token"
      ],
      "metadata": {
        "execution": {
          "iopub.status.busy": "2024-01-20T06:38:07.190976Z",
          "iopub.execute_input": "2024-01-20T06:38:07.191825Z",
          "iopub.status.idle": "2024-01-20T06:38:09.259675Z",
          "shell.execute_reply.started": "2024-01-20T06:38:07.19178Z",
          "shell.execute_reply": "2024-01-20T06:38:09.258772Z"
        },
        "trusted": true,
        "id": "_jzbT0IKUjKc"
      },
      "execution_count": null,
      "outputs": []
    },
    {
      "cell_type": "code",
      "source": [
        "print_gpu_utilization()"
      ],
      "metadata": {
        "execution": {
          "iopub.status.busy": "2024-01-20T06:38:11.288093Z",
          "iopub.execute_input": "2024-01-20T06:38:11.288479Z",
          "iopub.status.idle": "2024-01-20T06:38:16.216599Z",
          "shell.execute_reply.started": "2024-01-20T06:38:11.288438Z",
          "shell.execute_reply": "2024-01-20T06:38:16.215607Z"
        },
        "trusted": true,
        "id": "NpBsVTIsUjKd"
      },
      "execution_count": null,
      "outputs": []
    },
    {
      "cell_type": "code",
      "source": [
        "eval_tokenizer = AutoTokenizer.from_pretrained(model_name, add_bos_token=True, trust_remote_code=True, use_fast=False)\n",
        "eval_tokenizer.pad_token = eval_tokenizer.eos_token\n",
        "\n",
        "def gen(model,p, maxlen=100, sample=True):\n",
        "    toks = eval_tokenizer(p, return_tensors=\"pt\")\n",
        "    res = model.generate(**toks.to(\"cuda\"), max_new_tokens=maxlen, do_sample=sample,num_return_sequences=1,temperature=0.1,num_beams=1,top_p=0.95,).to('cpu')\n",
        "    return eval_tokenizer.batch_decode(res,skip_special_tokens=True)"
      ],
      "metadata": {
        "execution": {
          "iopub.status.busy": "2024-01-20T06:38:17.766951Z",
          "iopub.execute_input": "2024-01-20T06:38:17.767613Z",
          "iopub.status.idle": "2024-01-20T06:38:17.977517Z",
          "shell.execute_reply.started": "2024-01-20T06:38:17.767578Z",
          "shell.execute_reply": "2024-01-20T06:38:17.976678Z"
        },
        "trusted": true,
        "id": "4lEzAL9tUjKd"
      },
      "execution_count": null,
      "outputs": []
    },
    {
      "cell_type": "markdown",
      "source": [
        "<a name='6'></a>\n",
        "#### 6. Test the Model with Zero Shot Inferencing"
      ],
      "metadata": {
        "id": "ffIuKhc4UjKd"
      }
    },
    {
      "cell_type": "code",
      "source": [
        "%%time\n",
        "from transformers import set_seed\n",
        "seed = 42\n",
        "set_seed(seed)\n",
        "\n",
        "index = 10\n",
        "\n",
        "prompt = dataset['test'][index]['dialogue']\n",
        "summary = dataset['test'][index]['summary']\n",
        "\n",
        "formatted_prompt = f\"Instruct: Summarize the following conversation.\\n{prompt}\\nOutput:\\n\"\n",
        "res = gen(original_model,formatted_prompt,100,)\n",
        "#print(res[0])\n",
        "output = res[0].split('Output:\\n')[1]\n",
        "\n",
        "dash_line = '-'.join('' for x in range(100))\n",
        "print(dash_line)\n",
        "print(f'INPUT PROMPT:\\n{formatted_prompt}')\n",
        "print(dash_line)\n",
        "print(f'BASELINE HUMAN SUMMARY:\\n{summary}\\n')\n",
        "print(dash_line)\n",
        "print(f'MODEL GENERATION - ZERO SHOT:\\n{output}')"
      ],
      "metadata": {
        "execution": {
          "iopub.status.busy": "2024-01-20T06:38:23.248327Z",
          "iopub.execute_input": "2024-01-20T06:38:23.249577Z",
          "iopub.status.idle": "2024-01-20T06:38:29.685369Z",
          "shell.execute_reply.started": "2024-01-20T06:38:23.249528Z",
          "shell.execute_reply": "2024-01-20T06:38:29.684466Z"
        },
        "trusted": true,
        "id": "Y6sD7zVhUjKd"
      },
      "execution_count": null,
      "outputs": []
    },
    {
      "cell_type": "markdown",
      "source": [
        "<a name='7'></a>\n",
        "#### 7. Pre-processing dataset"
      ],
      "metadata": {
        "id": "Q_j4-NeFUjKd"
      }
    },
    {
      "cell_type": "code",
      "source": [
        "def create_prompt_formats(sample):\n",
        "    \"\"\"\n",
        "    Format various fields of the sample ('instruction','output')\n",
        "    Then concatenate them using two newline characters\n",
        "    :param sample: Sample dictionnary\n",
        "    \"\"\"\n",
        "    INTRO_BLURB = \"Below is an instruction that describes a task. Write a response that appropriately completes the request.\"\n",
        "    INSTRUCTION_KEY = \"### Instruct: Summarize the below conversation.\"\n",
        "    RESPONSE_KEY = \"### Output:\"\n",
        "    END_KEY = \"### End\"\n",
        "\n",
        "    blurb = f\"\\n{INTRO_BLURB}\"\n",
        "    instruction = f\"{INSTRUCTION_KEY}\"\n",
        "    input_context = f\"{sample['dialogue']}\" if sample[\"dialogue\"] else None\n",
        "    response = f\"{RESPONSE_KEY}\\n{sample['summary']}\"\n",
        "    end = f\"{END_KEY}\"\n",
        "\n",
        "    parts = [part for part in [blurb, instruction, input_context, response, end] if part]\n",
        "\n",
        "    formatted_prompt = \"\\n\\n\".join(parts)\n",
        "    sample[\"text\"] = formatted_prompt\n",
        "\n",
        "    return sample"
      ],
      "metadata": {
        "execution": {
          "iopub.status.busy": "2024-01-20T06:38:41.361011Z",
          "iopub.execute_input": "2024-01-20T06:38:41.361729Z",
          "iopub.status.idle": "2024-01-20T06:38:41.368868Z",
          "shell.execute_reply.started": "2024-01-20T06:38:41.361689Z",
          "shell.execute_reply": "2024-01-20T06:38:41.367673Z"
        },
        "trusted": true,
        "id": "oWOzP0h6UjKd"
      },
      "execution_count": null,
      "outputs": []
    },
    {
      "cell_type": "code",
      "source": [
        "# SOURCE https://github.com/databrickslabs/dolly/blob/master/training/trainer.py\n",
        "def get_max_length(model):\n",
        "    conf = model.config\n",
        "    max_length = None\n",
        "    for length_setting in [\"n_positions\", \"max_position_embeddings\", \"seq_length\"]:\n",
        "        max_length = getattr(model.config, length_setting, None)\n",
        "        if max_length:\n",
        "            print(f\"Found max lenth: {max_length}\")\n",
        "            break\n",
        "    if not max_length:\n",
        "        max_length = 1024\n",
        "        print(f\"Using default max length: {max_length}\")\n",
        "    return max_length\n",
        "\n",
        "\n",
        "def preprocess_batch(batch, tokenizer, max_length):\n",
        "    \"\"\"\n",
        "    Tokenizing a batch\n",
        "    \"\"\"\n",
        "    return tokenizer(\n",
        "        batch[\"text\"],\n",
        "        max_length=max_length,\n",
        "        truncation=True,\n",
        "    )"
      ],
      "metadata": {
        "execution": {
          "iopub.status.busy": "2024-01-20T06:38:42.366797Z",
          "iopub.execute_input": "2024-01-20T06:38:42.367542Z",
          "iopub.status.idle": "2024-01-20T06:38:42.373767Z",
          "shell.execute_reply.started": "2024-01-20T06:38:42.367511Z",
          "shell.execute_reply": "2024-01-20T06:38:42.372862Z"
        },
        "trusted": true,
        "id": "KBM07UcpUjKe"
      },
      "execution_count": null,
      "outputs": []
    },
    {
      "cell_type": "code",
      "source": [
        "from functools import partial\n",
        "\n",
        "# SOURCE https://github.com/databrickslabs/dolly/blob/master/training/trainer.py\n",
        "def preprocess_dataset(tokenizer: AutoTokenizer, max_length: int,seed, dataset):\n",
        "    \"\"\"Format & tokenize it so it is ready for training\n",
        "    :param tokenizer (AutoTokenizer): Model Tokenizer\n",
        "    :param max_length (int): Maximum number of tokens to emit from tokenizer\n",
        "    \"\"\"\n",
        "\n",
        "    # Add prompt to each sample\n",
        "    print(\"Preprocessing dataset...\")\n",
        "    dataset = dataset.map(create_prompt_formats)#, batched=True)\n",
        "\n",
        "    _preprocessing_function = partial(preprocess_batch, max_length=max_length, tokenizer=tokenizer)\n",
        "    dataset = dataset.map(\n",
        "        _preprocessing_function,\n",
        "        batched=True,\n",
        "        remove_columns=['id', 'topic', 'dialogue', 'summary'],\n",
        "    )\n",
        "\n",
        "    # Filter out samples that have input_ids exceeding max_length\n",
        "    dataset = dataset.filter(lambda sample: len(sample[\"input_ids\"]) < max_length)\n",
        "\n",
        "    # Shuffle dataset\n",
        "    dataset = dataset.shuffle(seed=seed)\n",
        "\n",
        "    return dataset"
      ],
      "metadata": {
        "execution": {
          "iopub.status.busy": "2024-01-20T06:38:44.011319Z",
          "iopub.execute_input": "2024-01-20T06:38:44.01207Z",
          "iopub.status.idle": "2024-01-20T06:38:44.018676Z",
          "shell.execute_reply.started": "2024-01-20T06:38:44.012035Z",
          "shell.execute_reply": "2024-01-20T06:38:44.017721Z"
        },
        "trusted": true,
        "id": "ONp0C1kXUjKe"
      },
      "execution_count": null,
      "outputs": []
    },
    {
      "cell_type": "code",
      "source": [
        "print_gpu_utilization()"
      ],
      "metadata": {
        "execution": {
          "iopub.status.busy": "2024-01-20T06:38:45.504201Z",
          "iopub.execute_input": "2024-01-20T06:38:45.504915Z",
          "iopub.status.idle": "2024-01-20T06:38:45.509895Z",
          "shell.execute_reply.started": "2024-01-20T06:38:45.504881Z",
          "shell.execute_reply": "2024-01-20T06:38:45.508897Z"
        },
        "trusted": true,
        "id": "qPVTmLeHUjKf"
      },
      "execution_count": null,
      "outputs": []
    },
    {
      "cell_type": "code",
      "source": [
        "# ## Pre-process dataset\n",
        "max_length = get_max_length(original_model)\n",
        "print(max_length)\n",
        "\n",
        "train_dataset = preprocess_dataset(tokenizer, max_length,seed, dataset['train'])\n",
        "eval_dataset = preprocess_dataset(tokenizer, max_length,seed, dataset['validation'])"
      ],
      "metadata": {
        "execution": {
          "iopub.status.busy": "2024-01-20T06:38:49.77002Z",
          "iopub.execute_input": "2024-01-20T06:38:49.770369Z",
          "iopub.status.idle": "2024-01-20T06:39:02.630942Z",
          "shell.execute_reply.started": "2024-01-20T06:38:49.770342Z",
          "shell.execute_reply": "2024-01-20T06:39:02.630214Z"
        },
        "trusted": true,
        "id": "YjybgeE8UjKf"
      },
      "execution_count": null,
      "outputs": []
    },
    {
      "cell_type": "code",
      "source": [
        "print(f\"Shapes of the datasets:\")\n",
        "print(f\"Training: {train_dataset.shape}\")\n",
        "print(f\"Validation: {eval_dataset.shape}\")\n",
        "print(train_dataset)"
      ],
      "metadata": {
        "execution": {
          "iopub.status.busy": "2024-01-20T06:39:02.632296Z",
          "iopub.execute_input": "2024-01-20T06:39:02.632587Z",
          "iopub.status.idle": "2024-01-20T06:39:02.637741Z",
          "shell.execute_reply.started": "2024-01-20T06:39:02.632561Z",
          "shell.execute_reply": "2024-01-20T06:39:02.63676Z"
        },
        "trusted": true,
        "id": "oeFlFg32UjKf"
      },
      "execution_count": null,
      "outputs": []
    },
    {
      "cell_type": "markdown",
      "source": [
        "<a name='8'></a>\n",
        "#### 8. Setup the PEFT/LoRA model for Fine-Tuning\n",
        "Now, let's perform Parameter Efficient Fine-Tuning (PEFT) fine-tuning. PEFT is a form of instruction fine-tuning that is much more efficient than full fine-tuning.\n",
        "PEFT is a generic term that includes Low-Rank Adaptation (LoRA) and prompt tuning (which is NOT THE SAME as prompt engineering!). In most cases, when someone says PEFT, they typically mean LoRA. LoRA, in essence, enables efficient model fine-tuning using fewer computational resources, often achievable with just a single GPU. Following LoRA fine-tuning for a specific task or use case, the outcome is an unchanged original LLM and the emergence of a considerably smaller \"LoRA adapter,\" often representing a single-digit percentage of the original LLM size (in MBs rather than GBs).\n",
        "\n",
        "During inference, the LoRA adapter must be combined with its original LLM. The advantage lies in the ability of many LoRA adapters to reuse the original LLM, thereby reducing overall memory requirements when handling multiple tasks and use cases.\n",
        "\n",
        "Note the rank (r) hyper-parameter, which defines the rank/dimension of the adapter to be trained.\n",
        "r is the rank of the low-rank matrix used in the adapters, which thus controls the number of parameters trained. A higher rank will allow for more expressivity, but there is a compute tradeoff.\n",
        "\n",
        "alpha is the scaling factor for the learned weights. The weight matrix is scaled by alpha/r, and thus a higher value for alpha assigns more weight to the LoRA activations."
      ],
      "metadata": {
        "id": "EC0OLJDCUjKf"
      }
    },
    {
      "cell_type": "code",
      "source": [
        "def print_number_of_trainable_model_parameters(model):\n",
        "    trainable_model_params = 0\n",
        "    all_model_params = 0\n",
        "    for _, param in model.named_parameters():\n",
        "        all_model_params += param.numel()\n",
        "        if param.requires_grad:\n",
        "            trainable_model_params += param.numel()\n",
        "    return f\"trainable model parameters: {trainable_model_params}\\nall model parameters: {all_model_params}\\npercentage of trainable model parameters: {100 * trainable_model_params / all_model_params:.2f}%\"\n",
        "\n",
        "print(print_number_of_trainable_model_parameters(original_model))"
      ],
      "metadata": {
        "execution": {
          "iopub.status.busy": "2024-01-20T06:39:20.293676Z",
          "iopub.execute_input": "2024-01-20T06:39:20.294539Z",
          "iopub.status.idle": "2024-01-20T06:39:20.303534Z",
          "shell.execute_reply.started": "2024-01-20T06:39:20.294505Z",
          "shell.execute_reply": "2024-01-20T06:39:20.302434Z"
        },
        "trusted": true,
        "id": "rKbDrSQpUjKf"
      },
      "execution_count": null,
      "outputs": []
    },
    {
      "cell_type": "code",
      "source": [
        "print(original_model)"
      ],
      "metadata": {
        "execution": {
          "iopub.status.busy": "2024-01-20T06:39:24.092536Z",
          "iopub.execute_input": "2024-01-20T06:39:24.093412Z",
          "iopub.status.idle": "2024-01-20T06:39:24.100571Z",
          "shell.execute_reply.started": "2024-01-20T06:39:24.09338Z",
          "shell.execute_reply": "2024-01-20T06:39:24.099579Z"
        },
        "trusted": true,
        "id": "aGyKBqgMUjKg"
      },
      "execution_count": null,
      "outputs": []
    },
    {
      "cell_type": "code",
      "source": [
        "from peft import LoraConfig, get_peft_model, prepare_model_for_kbit_training\n",
        "\n",
        "config = LoraConfig(\n",
        "    r=32, #Rank\n",
        "    lora_alpha=32,\n",
        "    target_modules=[\n",
        "        'q_proj',\n",
        "        'k_proj',\n",
        "        'v_proj',\n",
        "        'dense'\n",
        "    ],\n",
        "    bias=\"none\",\n",
        "    lora_dropout=0.05,  # Conventional\n",
        "    task_type=\"CAUSAL_LM\",\n",
        ")\n",
        "\n",
        "# 1 - Enabling gradient checkpointing to reduce memory usage during fine-tuning\n",
        "original_model.gradient_checkpointing_enable()\n",
        "\n",
        "# 2 - Using the prepare_model_for_kbit_training method from PEFT\n",
        "original_model = prepare_model_for_kbit_training(original_model)\n",
        "\n",
        "peft_model = get_peft_model(original_model, config)"
      ],
      "metadata": {
        "execution": {
          "iopub.status.busy": "2024-01-20T06:39:31.283152Z",
          "iopub.execute_input": "2024-01-20T06:39:31.284063Z",
          "iopub.status.idle": "2024-01-20T06:39:31.69889Z",
          "shell.execute_reply.started": "2024-01-20T06:39:31.284029Z",
          "shell.execute_reply": "2024-01-20T06:39:31.697918Z"
        },
        "trusted": true,
        "id": "bXdHGgE9UjKg"
      },
      "execution_count": null,
      "outputs": []
    },
    {
      "cell_type": "markdown",
      "source": [
        "Once everything is set up and the base model is prepared, we can use the print_trainable_parameters() helper function to see how many trainable parameters are in the model."
      ],
      "metadata": {
        "id": "jmrZaEVmUjKh"
      }
    },
    {
      "cell_type": "code",
      "source": [
        "print(print_number_of_trainable_model_parameters(peft_model))"
      ],
      "metadata": {
        "execution": {
          "iopub.status.busy": "2024-01-20T06:39:35.271014Z",
          "iopub.execute_input": "2024-01-20T06:39:35.271906Z",
          "iopub.status.idle": "2024-01-20T06:39:35.283574Z",
          "shell.execute_reply.started": "2024-01-20T06:39:35.271872Z",
          "shell.execute_reply": "2024-01-20T06:39:35.282621Z"
        },
        "trusted": true,
        "id": "vLIn4kfgUjKh"
      },
      "execution_count": null,
      "outputs": []
    },
    {
      "cell_type": "code",
      "source": [
        "# See how the model looks different now, with the LoRA adapters added:\n",
        "print(peft_model)"
      ],
      "metadata": {
        "execution": {
          "iopub.status.busy": "2024-01-20T06:39:41.790943Z",
          "iopub.execute_input": "2024-01-20T06:39:41.791778Z",
          "iopub.status.idle": "2024-01-20T06:39:41.807977Z",
          "shell.execute_reply.started": "2024-01-20T06:39:41.791743Z",
          "shell.execute_reply": "2024-01-20T06:39:41.807104Z"
        },
        "trusted": true,
        "id": "xW3PMXToUjKh"
      },
      "execution_count": null,
      "outputs": []
    },
    {
      "cell_type": "markdown",
      "source": [
        "<a name='9'></a>\n",
        "#### 9. Train PEFT Adapter\n",
        "\n",
        "Define training arguments and create Trainer instance."
      ],
      "metadata": {
        "id": "iwawq-oWUjKh"
      }
    },
    {
      "cell_type": "code",
      "source": [
        "output_dir = './peft-dialogue-summary-training/final-checkpoint'\n",
        "import transformers\n",
        "\n",
        "peft_training_args = TrainingArguments(\n",
        "    output_dir = output_dir,\n",
        "    warmup_steps=1,\n",
        "    per_device_train_batch_size=1,\n",
        "    gradient_accumulation_steps=4,\n",
        "    max_steps=1000,\n",
        "    learning_rate=2e-4,\n",
        "    optim=\"paged_adamw_8bit\",\n",
        "    logging_steps=25,\n",
        "    logging_dir=\"./logs\",\n",
        "    save_strategy=\"steps\",\n",
        "    save_steps=25,\n",
        "    evaluation_strategy=\"steps\",\n",
        "    eval_steps=25,\n",
        "    do_eval=True,\n",
        "    gradient_checkpointing=True,\n",
        "    report_to=\"none\",\n",
        "    overwrite_output_dir = 'True',\n",
        "    group_by_length=True,\n",
        ")\n",
        "\n",
        "peft_model.config.use_cache = False\n",
        "\n",
        "peft_trainer = transformers.Trainer(\n",
        "    model=peft_model,\n",
        "    train_dataset=train_dataset,\n",
        "    eval_dataset=eval_dataset,\n",
        "    args=peft_training_args,\n",
        "    data_collator=transformers.DataCollatorForLanguageModeling(tokenizer, mlm=False),\n",
        ")"
      ],
      "metadata": {
        "execution": {
          "iopub.status.busy": "2024-01-20T06:39:49.181607Z",
          "iopub.execute_input": "2024-01-20T06:39:49.182295Z",
          "iopub.status.idle": "2024-01-20T06:39:49.19455Z",
          "shell.execute_reply.started": "2024-01-20T06:39:49.182259Z",
          "shell.execute_reply": "2024-01-20T06:39:49.193629Z"
        },
        "trusted": true,
        "id": "-ZXXU-hrUjKh"
      },
      "execution_count": null,
      "outputs": []
    },
    {
      "cell_type": "code",
      "source": [
        "peft_training_args.device"
      ],
      "metadata": {
        "execution": {
          "iopub.status.busy": "2024-01-20T06:39:56.203399Z",
          "iopub.execute_input": "2024-01-20T06:39:56.204084Z",
          "iopub.status.idle": "2024-01-20T06:39:56.209885Z",
          "shell.execute_reply.started": "2024-01-20T06:39:56.204052Z",
          "shell.execute_reply": "2024-01-20T06:39:56.208967Z"
        },
        "trusted": true,
        "id": "8dx9FjzcUjKt"
      },
      "execution_count": null,
      "outputs": []
    },
    {
      "cell_type": "code",
      "source": [
        "peft_trainer.train()"
      ],
      "metadata": {
        "execution": {
          "iopub.status.busy": "2024-01-20T06:39:57.9483Z",
          "iopub.execute_input": "2024-01-20T06:39:57.949207Z",
          "iopub.status.idle": "2024-01-20T10:11:40.582353Z",
          "shell.execute_reply.started": "2024-01-20T06:39:57.949172Z",
          "shell.execute_reply": "2024-01-20T10:11:40.5814Z"
        },
        "trusted": true,
        "id": "Grqb1KrvUjKt"
      },
      "execution_count": null,
      "outputs": []
    },
    {
      "cell_type": "code",
      "source": [
        "print_gpu_utilization()"
      ],
      "metadata": {
        "execution": {
          "iopub.status.busy": "2024-01-20T10:12:09.228538Z",
          "iopub.execute_input": "2024-01-20T10:12:09.229339Z",
          "iopub.status.idle": "2024-01-20T10:12:09.234735Z",
          "shell.execute_reply.started": "2024-01-20T10:12:09.229305Z",
          "shell.execute_reply": "2024-01-20T10:12:09.233805Z"
        },
        "trusted": true,
        "id": "7N2eLMM1UjKt"
      },
      "execution_count": null,
      "outputs": []
    },
    {
      "cell_type": "code",
      "source": [
        "# Free memory for merging weights\n",
        "del original_model\n",
        "del peft_trainer\n",
        "torch.cuda.empty_cache()"
      ],
      "metadata": {
        "execution": {
          "iopub.status.busy": "2024-01-20T10:12:15.716634Z",
          "iopub.execute_input": "2024-01-20T10:12:15.717375Z",
          "iopub.status.idle": "2024-01-20T10:12:16.006683Z",
          "shell.execute_reply.started": "2024-01-20T10:12:15.717341Z",
          "shell.execute_reply": "2024-01-20T10:12:16.005744Z"
        },
        "trusted": true,
        "id": "EGwA7P9zUjKt"
      },
      "execution_count": null,
      "outputs": []
    },
    {
      "cell_type": "code",
      "source": [
        "print_gpu_utilization()"
      ],
      "metadata": {
        "execution": {
          "iopub.status.busy": "2024-01-20T10:12:19.431935Z",
          "iopub.execute_input": "2024-01-20T10:12:19.432308Z",
          "iopub.status.idle": "2024-01-20T10:12:19.437916Z",
          "shell.execute_reply.started": "2024-01-20T10:12:19.432277Z",
          "shell.execute_reply": "2024-01-20T10:12:19.436995Z"
        },
        "trusted": true,
        "id": "OYjMC_WwUjKt"
      },
      "execution_count": null,
      "outputs": []
    },
    {
      "cell_type": "markdown",
      "source": [
        "<a name='10'></a>\n",
        "#### 10. Evaluate the Model Qualitatively (Human Evaluation)"
      ],
      "metadata": {
        "id": "svF99LTFUjKu"
      }
    },
    {
      "cell_type": "code",
      "source": [
        "import torch\n",
        "from transformers import AutoTokenizer, AutoModelForCausalLM\n",
        "\n",
        "base_model_id = \"microsoft/phi-2\"\n",
        "base_model = AutoModelForCausalLM.from_pretrained(base_model_id,\n",
        "                                                      device_map='auto',\n",
        "                                                      quantization_config=bnb_config,\n",
        "                                                      trust_remote_code=True,\n",
        "                                                      use_auth_token=True)"
      ],
      "metadata": {
        "execution": {
          "iopub.status.busy": "2024-01-20T10:12:23.437949Z",
          "iopub.execute_input": "2024-01-20T10:12:23.438323Z",
          "iopub.status.idle": "2024-01-20T10:12:27.860662Z",
          "shell.execute_reply.started": "2024-01-20T10:12:23.438291Z",
          "shell.execute_reply": "2024-01-20T10:12:27.859789Z"
        },
        "trusted": true,
        "id": "nhGO1FhmUjKu"
      },
      "execution_count": null,
      "outputs": []
    },
    {
      "cell_type": "code",
      "source": [
        "eval_tokenizer = AutoTokenizer.from_pretrained(base_model_id, add_bos_token=True, trust_remote_code=True, use_fast=False)\n",
        "eval_tokenizer.pad_token = eval_tokenizer.eos_token"
      ],
      "metadata": {
        "execution": {
          "iopub.status.busy": "2024-01-20T10:12:35.286321Z",
          "iopub.execute_input": "2024-01-20T10:12:35.287195Z",
          "iopub.status.idle": "2024-01-20T10:12:35.492183Z",
          "shell.execute_reply.started": "2024-01-20T10:12:35.287161Z",
          "shell.execute_reply": "2024-01-20T10:12:35.491261Z"
        },
        "trusted": true,
        "id": "Qt6Y0XH8UjKu"
      },
      "execution_count": null,
      "outputs": []
    },
    {
      "cell_type": "code",
      "source": [
        "from peft import PeftModel\n",
        "\n",
        "ft_model = PeftModel.from_pretrained(base_model, \"/kaggle/working/peft-dialogue-summary-training/final-checkpoint/checkpoint-1000\",torch_dtype=torch.float16,is_trainable=False)"
      ],
      "metadata": {
        "execution": {
          "iopub.status.busy": "2024-01-20T10:12:39.214472Z",
          "iopub.execute_input": "2024-01-20T10:12:39.215138Z",
          "iopub.status.idle": "2024-01-20T10:12:39.745376Z",
          "shell.execute_reply.started": "2024-01-20T10:12:39.215104Z",
          "shell.execute_reply": "2024-01-20T10:12:39.74436Z"
        },
        "trusted": true,
        "id": "pCzAGmPYUjKu"
      },
      "execution_count": null,
      "outputs": []
    },
    {
      "cell_type": "code",
      "source": [
        "%%time\n",
        "from transformers import set_seed\n",
        "set_seed(seed)\n",
        "\n",
        "index = 10\n",
        "dialogue = dataset['test'][index]['dialogue']\n",
        "summary = dataset['test'][index]['summary']\n",
        "\n",
        "prompt = f\"Instruct: Summarize the following conversation.\\n{dialogue}\\nOutput:\\n\"\n",
        "\n",
        "peft_model_res = gen(ft_model,prompt,100,)\n",
        "peft_model_output = peft_model_res[0].split('Output:\\n')[1]\n",
        "#print(peft_model_output)\n",
        "prefix, success, result = peft_model_output.partition('#End')\n",
        "\n",
        "dash_line = '-'.join('' for x in range(100))\n",
        "print(dash_line)\n",
        "print(f'INPUT PROMPT:\\n{prompt}')\n",
        "print(dash_line)\n",
        "print(f'BASELINE HUMAN SUMMARY:\\n{summary}\\n')\n",
        "print(dash_line)\n",
        "print(f'PEFT MODEL:\\n{prefix}')"
      ],
      "metadata": {
        "execution": {
          "iopub.status.busy": "2024-01-20T10:13:40.908658Z",
          "iopub.execute_input": "2024-01-20T10:13:40.909063Z",
          "iopub.status.idle": "2024-01-20T10:13:49.707535Z",
          "shell.execute_reply.started": "2024-01-20T10:13:40.909027Z",
          "shell.execute_reply": "2024-01-20T10:13:49.706576Z"
        },
        "trusted": true,
        "id": "NqEEHlLOUjKu"
      },
      "execution_count": null,
      "outputs": []
    },
    {
      "cell_type": "markdown",
      "source": [
        "<a name='11'></a>\n",
        "#### 11. Evaluate the Model Quantitatively (with ROUGE Metric)\n",
        "Perform inferences for the sample of the test dataset (only 10 dialogues and summaries to save time)."
      ],
      "metadata": {
        "id": "BAJPfscPUjKv"
      }
    },
    {
      "cell_type": "code",
      "source": [
        "original_model = AutoModelForCausalLM.from_pretrained(base_model_id,\n",
        "                                                      device_map='auto',\n",
        "                                                      quantization_config=bnb_config,\n",
        "                                                      trust_remote_code=True,\n",
        "                                                      use_auth_token=True)"
      ],
      "metadata": {
        "execution": {
          "iopub.status.busy": "2024-01-20T10:13:54.918729Z",
          "iopub.execute_input": "2024-01-20T10:13:54.919616Z",
          "iopub.status.idle": "2024-01-20T10:13:58.903914Z",
          "shell.execute_reply.started": "2024-01-20T10:13:54.919578Z",
          "shell.execute_reply": "2024-01-20T10:13:58.903111Z"
        },
        "trusted": true,
        "id": "IzxpPnWXUjKv"
      },
      "execution_count": null,
      "outputs": []
    },
    {
      "cell_type": "code",
      "source": [
        "import pandas as pd\n",
        "\n",
        "dialogues = dataset['test'][0:10]['dialogue']\n",
        "human_baseline_summaries = dataset['test'][0:10]['summary']\n",
        "\n",
        "original_model_summaries = []\n",
        "instruct_model_summaries = []\n",
        "peft_model_summaries = []\n",
        "\n",
        "for idx, dialogue in enumerate(dialogues):\n",
        "    human_baseline_text_output = human_baseline_summaries[idx]\n",
        "    prompt = f\"Instruct: Summarize the following conversation.\\n{dialogue}\\nOutput:\\n\"\n",
        "\n",
        "    original_model_res = gen(original_model,prompt,100,)\n",
        "    original_model_text_output = original_model_res[0].split('Output:\\n')[1]\n",
        "\n",
        "    peft_model_res = gen(ft_model,prompt,100,)\n",
        "    peft_model_output = peft_model_res[0].split('Output:\\n')[1]\n",
        "    #print(peft_model_output)\n",
        "    peft_model_text_output, success, result = peft_model_output.partition('#End')\n",
        "\n",
        "\n",
        "    original_model_summaries.append(original_model_text_output)\n",
        "    peft_model_summaries.append(peft_model_text_output)\n",
        "\n",
        "zipped_summaries = list(zip(human_baseline_summaries, original_model_summaries, peft_model_summaries))\n",
        "\n",
        "df = pd.DataFrame(zipped_summaries, columns = ['human_baseline_summaries', 'original_model_summaries', 'peft_model_summaries'])\n",
        "df"
      ],
      "metadata": {
        "execution": {
          "iopub.status.busy": "2024-01-20T10:16:20.440537Z",
          "iopub.execute_input": "2024-01-20T10:16:20.44091Z",
          "iopub.status.idle": "2024-01-20T10:18:49.394779Z",
          "shell.execute_reply.started": "2024-01-20T10:16:20.440879Z",
          "shell.execute_reply": "2024-01-20T10:18:49.393788Z"
        },
        "trusted": true,
        "id": "QarYixKzUjKv"
      },
      "execution_count": null,
      "outputs": []
    },
    {
      "cell_type": "code",
      "source": [
        "!pip install rouge_score"
      ],
      "metadata": {
        "execution": {
          "iopub.status.busy": "2024-01-20T10:18:49.396626Z",
          "iopub.execute_input": "2024-01-20T10:18:49.396915Z",
          "iopub.status.idle": "2024-01-20T10:19:04.322742Z",
          "shell.execute_reply.started": "2024-01-20T10:18:49.39689Z",
          "shell.execute_reply": "2024-01-20T10:19:04.321453Z"
        },
        "trusted": true,
        "id": "IkpdBQYKUjKv"
      },
      "execution_count": null,
      "outputs": []
    },
    {
      "cell_type": "code",
      "source": [
        "import evaluate\n",
        "\n",
        "rouge = evaluate.load('rouge')\n",
        "\n",
        "original_model_results = rouge.compute(\n",
        "    predictions=original_model_summaries,\n",
        "    references=human_baseline_summaries[0:len(original_model_summaries)],\n",
        "    use_aggregator=True,\n",
        "    use_stemmer=True,\n",
        ")\n",
        "\n",
        "peft_model_results = rouge.compute(\n",
        "    predictions=peft_model_summaries,\n",
        "    references=human_baseline_summaries[0:len(peft_model_summaries)],\n",
        "    use_aggregator=True,\n",
        "    use_stemmer=True,\n",
        ")\n",
        "\n",
        "print('ORIGINAL MODEL:')\n",
        "print(original_model_results)\n",
        "print('PEFT MODEL:')\n",
        "print(peft_model_results)"
      ],
      "metadata": {
        "execution": {
          "iopub.status.busy": "2024-01-20T10:19:30.796882Z",
          "iopub.execute_input": "2024-01-20T10:19:30.797808Z",
          "iopub.status.idle": "2024-01-20T10:19:32.04348Z",
          "shell.execute_reply.started": "2024-01-20T10:19:30.797774Z",
          "shell.execute_reply": "2024-01-20T10:19:32.042466Z"
        },
        "trusted": true,
        "id": "DB1jc0YWUjKv"
      },
      "execution_count": null,
      "outputs": []
    },
    {
      "cell_type": "code",
      "source": [
        "print(\"Absolute percentage improvement of PEFT MODEL over ORIGINAL MODEL\")\n",
        "\n",
        "improvement = (np.array(list(peft_model_results.values())) - np.array(list(original_model_results.values())))\n",
        "for key, value in zip(peft_model_results.keys(), improvement):\n",
        "    print(f'{key}: {value*100:.2f}%')"
      ],
      "metadata": {
        "execution": {
          "iopub.status.busy": "2024-01-20T10:19:35.851035Z",
          "iopub.execute_input": "2024-01-20T10:19:35.85188Z",
          "iopub.status.idle": "2024-01-20T10:19:35.857618Z",
          "shell.execute_reply.started": "2024-01-20T10:19:35.851846Z",
          "shell.execute_reply": "2024-01-20T10:19:35.856633Z"
        },
        "trusted": true,
        "id": "H9eF20jZUjKv"
      },
      "execution_count": null,
      "outputs": []
    }
  ]
}