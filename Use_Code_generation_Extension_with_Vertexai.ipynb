{
  "nbformat": 4,
  "nbformat_minor": 0,
  "metadata": {
    "colab": {
      "provenance": [],
      "authorship_tag": "ABX9TyPRGRPIF4EsA3ivXlZIrOqc",
      "include_colab_link": true
    },
    "kernelspec": {
      "name": "python3",
      "display_name": "Python 3"
    },
    "language_info": {
      "name": "python"
    }
  },
  "cells": [
    {
      "cell_type": "markdown",
      "metadata": {
        "id": "view-in-github",
        "colab_type": "text"
      },
      "source": [
        "<a href=\"https://colab.research.google.com/github/sondebisola/AI-MLprojects/blob/main/Use_Code_generation_Extension_with_Vertexai.ipynb\" target=\"_parent\"><img src=\"https://colab.research.google.com/assets/colab-badge.svg\" alt=\"Open In Colab\"/></a>"
      ]
    },
    {
      "cell_type": "code",
      "execution_count": null,
      "metadata": {
        "id": "Gk5mLGANGWW6"
      },
      "outputs": [],
      "source": [
        "Extensions: Google provides some out of the box extensions that\n",
        "can be quickly imported into your project and used with minimal configurations."
      ]
    },
    {
      "cell_type": "markdown",
      "source": [
        "Code Interpreter extension  allows you to generate and run Python code from a natural language description."
      ],
      "metadata": {
        "id": "AOxvR6BFGqAn"
      }
    },
    {
      "cell_type": "code",
      "source": [
        "# Import necessary libraries:\n",
        "import vertexai\n",
        "import pprint\n",
        "\n",
        "# Set Project and Region:\n",
        "PROJECT_ID = \"YOUR_PROJECT_ID\"\n",
        "REGION = \"us-central1\"\n",
        "vertexai.init(project=PROJECT_ID, location=REGION) #vertexai.init(): This line initializes the Vertex AI SDK with your project and region information, establishing a connection to the service.\n",
        "\n",
        "from vertexai.preview.extensions import Extension #Imports the Extension class from the Vertex AI extensions module.\n",
        "\n",
        "extension_code_interpreter = Extension.from_hub(\"code_interpreter\") #This line creates an instance of the Code Interpreter extension by loading it from the \"code_interpreter\" hub.\n",
        "CODE_QUERY = \"\"\"Write a python method to invert a binary tree in O(n) time.\"\"\"\n",
        "\n",
        "response = extension_code_interpreter.execute(operation_id = \"generate_and_execute\",operation_params = {\"query\": CODE_QUERY})\n",
        "print(\"Generated Code:\")\n",
        "pprint.pprint({response['generated_code']})\n"
      ],
      "metadata": {
        "id": "e45IVrMlG2KP"
      },
      "execution_count": null,
      "outputs": []
    },
    {
      "cell_type": "code",
      "source": [
        "# The above snippet will generate the following code.\n",
        "class TreeNode:\n",
        "    def __init__(self, val=0, left=None, right=None):\n",
        "        self.val = val\n",
        "        self.left = left\n",
        "        self.right = right\n",
        "\n",
        "def invert_binary_tree(root):\n",
        "    \"\"\"\n",
        "    Inverts a binary tree.\n",
        "    Args:\n",
        "    root: The root of the binary tree.\n",
        "    Returns:\n",
        "    The root of the inverted binary tree.\n",
        "    \"\"\"\n",
        "    if not root:\n",
        "        return None\n",
        "    # Swap the left and right children recursively\n",
        "    root.left, root.right = invert_binary_tree(root.right), invert_binary_tree(root.left)\n",
        "    return root\n"
      ],
      "metadata": {
        "id": "eB_BLBcMHmZ7"
      },
      "execution_count": null,
      "outputs": []
    },
    {
      "cell_type": "markdown",
      "source": [],
      "metadata": {
        "id": "4yDmD9cjGlVK"
      }
    }
  ]
}